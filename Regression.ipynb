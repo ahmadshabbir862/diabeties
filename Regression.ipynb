{
 "cells": [
  {
   "cell_type": "code",
   "execution_count": null,
   "id": "88dbf661",
   "metadata": {},
   "outputs": [],
   "source": [
    "import matplotlib.pyplot as plt\n",
    "import numpy as np\n",
    "from sklearn import datasets, linear_model\n"
   ]
  },
  {
   "cell_type": "code",
   "execution_count": null,
   "id": "aa3cddf0",
   "metadata": {},
   "outputs": [],
   "source": [
    "dataset = datasets.load_diabetes()"
   ]
  },
  {
   "cell_type": "code",
   "execution_count": null,
   "id": "cdf2b5ae",
   "metadata": {},
   "outputs": [],
   "source": [
    "print(dataset.keys())"
   ]
  },
  {
   "cell_type": "code",
   "execution_count": null,
   "id": "9d39fffb",
   "metadata": {},
   "outputs": [],
   "source": []
  },
  {
   "cell_type": "code",
   "execution_count": null,
   "id": "8fef3c7e",
   "metadata": {},
   "outputs": [],
   "source": [
    "print(dataset.DESCR)"
   ]
  },
  {
   "cell_type": "code",
   "execution_count": null,
   "id": "fc025a86",
   "metadata": {},
   "outputs": [],
   "source": [
    "#dataset_X = dataset.data[:, np.newaxis, 2]\n",
    "dataset_X = dataset.data"
   ]
  },
  {
   "cell_type": "code",
   "execution_count": null,
   "id": "a8acb9ca",
   "metadata": {},
   "outputs": [],
   "source": [
    "dataset_X_train = dataset_X[:-200]\n",
    "dataset_X_test = dataset_X[-20:]"
   ]
  },
  {
   "cell_type": "code",
   "execution_count": null,
   "id": "6cda2769",
   "metadata": {},
   "outputs": [],
   "source": [
    "dataset_Y_train = dataset.target[:-100]\n",
    "dataset_Y_test = dataset.target[-20:]"
   ]
  },
  {
   "cell_type": "code",
   "execution_count": null,
   "id": "546f4ebc",
   "metadata": {},
   "outputs": [],
   "source": [
    "model = linear_model.LinearRegression()"
   ]
  },
  {
   "cell_type": "code",
   "execution_count": null,
   "id": "cff1d1a8",
   "metadata": {},
   "outputs": [],
   "source": [
    "model.fit(dataset_X_train, dataset_Y_train)"
   ]
  },
  {
   "cell_type": "code",
   "execution_count": null,
   "id": "6b64cc0a",
   "metadata": {},
   "outputs": [],
   "source": [
    "dataset_Y_Predict = model.predict(dataset_X_test)"
   ]
  },
  {
   "cell_type": "code",
   "execution_count": null,
   "id": "b0d10981",
   "metadata": {},
   "outputs": [],
   "source": [
    "from sklearn.metrics import mean_squared_error"
   ]
  },
  {
   "cell_type": "code",
   "execution_count": null,
   "id": "ffa879ff",
   "metadata": {},
   "outputs": [],
   "source": [
    "print(\"Total mean squared error is:\", mean_squared_error(dataset_Y_test, dataset_Y_Predict))"
   ]
  },
  {
   "cell_type": "code",
   "execution_count": null,
   "id": "989583f0",
   "metadata": {},
   "outputs": [],
   "source": [
    "print(\"Weights:\", model.coef_)\n",
    "print(\"Intersepts:\", model.intercept_)"
   ]
  },
  {
   "cell_type": "code",
   "execution_count": null,
   "id": "eabafb5d",
   "metadata": {},
   "outputs": [],
   "source": [
    "plt.scatter(dataset_X_test, dataset_Y_test)\n",
    "plt.plot(dataset_X_test, dataset_Y_Predict)\n",
    "plt.show()"
   ]
  },
  {
   "cell_type": "code",
   "execution_count": null,
   "id": "11fd2967",
   "metadata": {},
   "outputs": [],
   "source": []
  }
 ],
 "metadata": {
  "kernelspec": {
   "display_name": "Python 3 (ipykernel)",
   "language": "python",
   "name": "python3"
  },
  "language_info": {
   "codemirror_mode": {
    "name": "ipython",
    "version": 3
   },
   "file_extension": ".py",
   "mimetype": "text/x-python",
   "name": "python",
   "nbconvert_exporter": "python",
   "pygments_lexer": "ipython3",
   "version": "3.10.6"
  }
 },
 "nbformat": 4,
 "nbformat_minor": 5
}
